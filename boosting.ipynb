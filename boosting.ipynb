{
 "cells": [
  {
   "cell_type": "code",
   "execution_count": 11,
   "metadata": {},
   "outputs": [],
   "source": [
    "import pandas as pd\n",
    "import numpy as np\n",
    "from sklearn.tree import DecisionTreeClassifier\n",
    "from sklearn.model_selection import train_test_split\n",
    "import matplotlib.pyplot as plt\n",
    "from sklearn.ensemble import AdaBoostRegressor,AdaBoostClassifier\n",
    "from sklearn.utils.class_weight import compute_sample_weight\n",
    "import matplotlib.pyplot as plt\n",
    "%matplotlib inline\n",
    "\n",
    "# read csv data\n",
    "data = pd.read_csv('banana_data.csv',header=None)\n",
    "X = data.values[:,1:]\n",
    "y = data.values[:,0]\n",
    "\n",
    "# splite data into training set and testing set with the rato 7:3\n",
    "X_train, X_test, y_train, y_test = train_test_split(X, y, test_size=0.3, random_state=1)"
   ]
  },
  {
   "cell_type": "code",
   "execution_count": 12,
   "metadata": {},
   "outputs": [
    {
     "data": {
      "text/html": [
       "<div>\n",
       "<style scoped>\n",
       "    .dataframe tbody tr th:only-of-type {\n",
       "        vertical-align: middle;\n",
       "    }\n",
       "\n",
       "    .dataframe tbody tr th {\n",
       "        vertical-align: top;\n",
       "    }\n",
       "\n",
       "    .dataframe thead th {\n",
       "        text-align: right;\n",
       "    }\n",
       "</style>\n",
       "<table border=\"1\" class=\"dataframe\">\n",
       "  <thead>\n",
       "    <tr style=\"text-align: right;\">\n",
       "      <th></th>\n",
       "      <th>0</th>\n",
       "      <th>1</th>\n",
       "      <th>2</th>\n",
       "    </tr>\n",
       "  </thead>\n",
       "  <tbody>\n",
       "    <tr>\n",
       "      <th>0</th>\n",
       "      <td>-1.0</td>\n",
       "      <td>-3.089839</td>\n",
       "      <td>-0.831686</td>\n",
       "    </tr>\n",
       "    <tr>\n",
       "      <th>1</th>\n",
       "      <td>-1.0</td>\n",
       "      <td>-2.980834</td>\n",
       "      <td>-0.159575</td>\n",
       "    </tr>\n",
       "    <tr>\n",
       "      <th>2</th>\n",
       "      <td>-1.0</td>\n",
       "      <td>-2.836057</td>\n",
       "      <td>-0.177081</td>\n",
       "    </tr>\n",
       "    <tr>\n",
       "      <th>3</th>\n",
       "      <td>-1.0</td>\n",
       "      <td>-2.767849</td>\n",
       "      <td>0.096217</td>\n",
       "    </tr>\n",
       "    <tr>\n",
       "      <th>4</th>\n",
       "      <td>-1.0</td>\n",
       "      <td>-2.600350</td>\n",
       "      <td>0.216772</td>\n",
       "    </tr>\n",
       "  </tbody>\n",
       "</table>\n",
       "</div>"
      ],
      "text/plain": [
       "     0         1         2\n",
       "0 -1.0 -3.089839 -0.831686\n",
       "1 -1.0 -2.980834 -0.159575\n",
       "2 -1.0 -2.836057 -0.177081\n",
       "3 -1.0 -2.767849  0.096217\n",
       "4 -1.0 -2.600350  0.216772"
      ]
     },
     "execution_count": 12,
     "metadata": {},
     "output_type": "execute_result"
    }
   ],
   "source": [
    "data.head(5) "
   ]
  },
  {
   "cell_type": "code",
   "execution_count": 15,
   "metadata": {},
   "outputs": [],
   "source": [
    "n,_ = X_train.shape # n is the number of samples in training set\n",
    "num_iterations = 50  # set the number of iterations. now we have 10\n",
    "classifier = [] # save classifiers. In Adaboost, each iteration we have a weighted classifier\n",
    "classifier_weights = [] # save classifiers' weight. Using this weight and classifiers we aggregate them to get a file classify\n",
    "\n",
    "d = np.ones(n) / n # Initially, before training, the weight of all samples form uniformed distribution (equally)\n",
    "\n",
    "for t in range(num_iterations):\n",
    "    h = DecisionTreeClassifier(max_depth=3,criterion='entropy') # initialize a Decision Tree Classifier using sklearn\n",
    "    h.fit(X_train, y_train, sample_weight=d) # fit the model using training set. the give our d to sample_weight\n",
    "    pred = h.predict(X_train) # predict the training data for futher error and weight calculation\n",
    "\n",
    "    eps = 0.5 - 0.5 * d.dot(y_train * pred) # calculate weighted classification error epsilon !=\n",
    "    alpha = (np.log(1 - eps) - np.log(eps)) / 2.0 # calculate alpha based on epsilon\n",
    "\n",
    "    d = d * np.exp(- alpha * y_train * pred) # calculate new sample weight\n",
    "    d = d / d.sum() # make sure the all new weights sum to one\n",
    "\n",
    "    classifier.append(h) # save current classifer\n",
    "    classifier_weights.append(alpha) # save the weight of current classifier\n"
   ]
  },
  {
   "cell_type": "code",
   "execution_count": 16,
   "metadata": {},
   "outputs": [
    {
     "data": {
      "image/png": "[encoded data removed]",
      "text/plain": [
       "<Figure size 432x288 with 1 Axes>"
      ]
     },
     "metadata": {},
     "output_type": "display_data"
    }
   ],
   "source": [
    "# predict function is based on h_N(x) = alpha_1 h_1(x) + ... + alpha_N h_1(N) (N is the number of classifiers)\n",
    "def predict(X):\n",
    "    pred = 0.0\n",
    "    for (h, alpha) in zip(classifier, classifier_weights):\n",
    "        pred += alpha * h.predict(X)\n",
    "    pred = np.sign(pred)\n",
    "    return pred\n",
    "\n",
    "# calculate the error rate. num_error_prediction / total_number\n",
    "def get_error(pred, truth):\n",
    "    result = [p == h for (p,h) in zip(pred, truth)]\n",
    "    num_error = list(result).count(False)\n",
    "    return num_error * 1.0 / len(pred) \n",
    "\n",
    "# plot the training and testing error.\n",
    "error_train = []\n",
    "error_test = []\n",
    "pred_train = 0.0\n",
    "pred_test = 0.0\n",
    "for (h, alpha) in zip(classifier, classifier_weights): # each time we output a result consider the ith round of the Adaboost.\n",
    "    pred_train += alpha * h.predict(X_train) # sum up each weight classifier prediction of training data\n",
    "    pred_test += alpha * h.predict(X_test) # sum up each weight classifier prediction of testing data\n",
    "    error_train.append(get_error(np.sign(pred_train), y_train)) # save each round Adaboost result of training data\n",
    "    error_test.append(get_error(np.sign(pred_test), y_test)) # save each round Adaboost result of testing data\n",
    "# print error_train,error_test\n",
    "plt.plot(error_train, label='training error rate')\n",
    "plt.plot(error_test, label='testing error rate')\n",
    "plt.legend()\n",
    "plt.show()"
   ]
  },
  {
   "cell_type": "markdown",
   "metadata": {},
   "source": [
    "from the figure, we could observe that the error in training data descrese with the increase of number of round. \n",
    "Testing error descrease but will not continue as training data. When the testing error dosen't descrease or even \n",
    "increase, and becoming stable, we can stop training now.\n"
   ]
  },
  {
   "cell_type": "code",
   "execution_count": null,
   "metadata": {},
   "outputs": [],
   "source": []
  }
 ],
 "metadata": {
  "kernelspec": {
   "display_name": "Python 2",
   "language": "python",
   "name": "python2"
  },
  "language_info": {
   "codemirror_mode": {
    "name": "ipython",
    "version": 2
   },
   "file_extension": ".py",
   "mimetype": "text/x-python",
   "name": "python",
   "nbconvert_exporter": "python",
   "pygments_lexer": "ipython2",
   "version": "2.7.15"
  }
 },
 "nbformat": 4,
 "nbformat_minor": 2
}

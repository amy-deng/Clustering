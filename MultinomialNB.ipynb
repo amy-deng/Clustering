{
 "cells": [
  {
   "cell_type": "code",
   "execution_count": 124,
   "metadata": {},
   "outputs": [],
   "source": [
    "",
    "from math import log\n",
    "import nltk\n",
    "\n",
    "Arthur = open('books/Arthur.txt').read()\n",
    "Jane = open('books/Jane.txt').read()\n",
    "files_dict = {\"Arthur\":Arthur, \"Jane\":Jane}"
   ]
  },
  {
   "cell_type": "code",
   "execution_count": 125,
   "metadata": {},
   "outputs": [],
   "source": [
    "cat_word_dict = {}       # word frequence of each class\n",
    "cat_word_count_dict = {} # number of words of each class\n",
    "\n",
    "for key in files_dict:   # format {\"Arthur\":Arthur texts, \"Jane\":Jane texts}\n",
    "    list_words = nltk.word_tokenize(files_dict[key].decode('utf-8'))\n",
    "    cat_word_dict[key] = cat_word_dict.get(key,{})\n",
    "    cat_word_count_dict[key] = cat_word_count_dict.get(key,0) # number of words of this class\n",
    "    cat_word_count_dict[key] += len(list_words)\n",
    "\n",
    "    for w in list_words:\n",
    "        cat_word_dict[key][w] = cat_word_dict[key].get(w, 0) # count word frequence of each class\n",
    "        cat_word_dict[key][w]+=1\n",
    "    \n",
    "# count how many unique words in whole dataset, which will be used in calculating conditional probability\n",
    "num_vocabulary = 0            \n",
    "for word in cat_word_dict.values():\n",
    "     num_vocabulary += len(word)"
   ]
  },
  {
   "cell_type": "code",
   "execution_count": 126,
   "metadata": {},
   "outputs": [],
   "source": [
    "# Multinomial Naive Bayes model, input is a piece of text and return the category\n",
    "def MultinomialNB(text):\n",
    "    min_neg_log_prob=1000000000 # maximize log () equals to minimize - log ()\n",
    "    min_cat='' # the cat we are choosen\n",
    "    list_words = nltk.word_tokenize(text.decode('utf-8')) # spilit raw text to words\n",
    "\n",
    "    for cat in  cat_word_count_dict:\n",
    "        neg_log_prob = - log( cat_word_count_dict[cat] * 1.0 / sum(cat_word_count_dict.values())) # class prior prob, consider number of words because we only have two training documents\n",
    "        word_dict = cat_word_dict[cat]\n",
    "        count_cat = cat_word_count_dict[cat]\n",
    "        for w in list_words:\n",
    "            count_word_train = word_dict.get(w,0)\n",
    "            cond_prob = (count_word_train + 1.0) / (count_cat + num_vocabulary)\n",
    "            neg_log_prob -= log(cond_prob)     \n",
    "        if min_neg_log_prob > neg_log_prob:\n",
    "            min_cat = cat\n",
    "            min_neg_log_prob = neg_log_prob\n",
    "    return min_cat\n"
   ]
  },
  {
   "cell_type": "code",
   "execution_count": 127,
   "metadata": {},
   "outputs": [],
   "source": [
    "#  Process two files into testing set with many divided paragraphs\n",
    "texts, labels = [], []\n",
    "for i, line in enumerate(Arthur.split(\"\\r\\n\\r\\n\")):\n",
    "    line = line.replace('\\r\\n', '')\n",
    "    if line is not '':        \n",
    "        labels.append('Arthur')\n",
    "        texts.append(line)\n",
    "for i, line in enumerate(Jane.split(\"\\r\\n\\r\\n\")):\n",
    "    line = line.replace('\\r\\n', '')\n",
    "    if line is not '':\n",
    "        labels.append('Jane')\n",
    "        texts.append(line)        "
   ]
  },
  {
   "cell_type": "code",
   "execution_count": 128,
   "metadata": {},
   "outputs": [
    {
     "name": "stdout",
     "output_type": "stream",
     "text": [
      "0.950280264978\n"
     ]
    }
   ],
   "source": [
    "## testing\n",
    "i = 0 # count the number of correct prediction\n",
    "for id in range(len(texts)):\n",
    "    pred = MultinomialNB(texts[id])\n",
    "    i += int(pred == labels[id])\n",
    "print i * 1.0 / len(texts)  # the accuracy is 0.950280264978"
   ]
  },
  {
   "cell_type": "code",
   "execution_count": null,
   "metadata": {},
   "outputs": [],
   "source": []
  }
 ],
 "metadata": {
  "kernelspec": {
   "display_name": "Python 2",
   "language": "python",
   "name": "python2"
  },
  "language_info": {
   "codemirror_mode": {
    "name": "ipython",
    "version": 2
   },
   "file_extension": ".py",
   "mimetype": "text/x-python",
   "name": "python",
   "nbconvert_exporter": "python",
   "pygments_lexer": "ipython2",
   "version": "2.7.15"
  }
 },
 "nbformat": 4,
 "nbformat_minor": 2
}

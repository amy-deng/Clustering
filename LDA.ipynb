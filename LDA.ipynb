{
 "cells": [
  {
   "cell_type": "code",
   "execution_count": 3,
   "metadata": {},
   "outputs": [
    {
     "data": {
      "text/html": [
       "<div>\n",
       "<style scoped>\n",
       "    .dataframe tbody tr th:only-of-type {\n",
       "        vertical-align: middle;\n",
       "    }\n",
       "\n",
       "    .dataframe tbody tr th {\n",
       "        vertical-align: top;\n",
       "    }\n",
       "\n",
       "    .dataframe thead th {\n",
       "        text-align: right;\n",
       "    }\n",
       "</style>\n",
       "<table border=\"1\" class=\"dataframe\">\n",
       "  <thead>\n",
       "    <tr style=\"text-align: right;\">\n",
       "      <th></th>\n",
       "      <th>0</th>\n",
       "      <th>1</th>\n",
       "      <th>2</th>\n",
       "      <th>3</th>\n",
       "      <th>4</th>\n",
       "    </tr>\n",
       "  </thead>\n",
       "  <tbody>\n",
       "    <tr>\n",
       "      <th>0</th>\n",
       "      <td>5.1</td>\n",
       "      <td>3.5</td>\n",
       "      <td>1.4</td>\n",
       "      <td>0.2</td>\n",
       "      <td>Iris-setosa</td>\n",
       "    </tr>\n",
       "    <tr>\n",
       "      <th>1</th>\n",
       "      <td>4.9</td>\n",
       "      <td>3.0</td>\n",
       "      <td>1.4</td>\n",
       "      <td>0.2</td>\n",
       "      <td>Iris-setosa</td>\n",
       "    </tr>\n",
       "    <tr>\n",
       "      <th>2</th>\n",
       "      <td>4.7</td>\n",
       "      <td>3.2</td>\n",
       "      <td>1.3</td>\n",
       "      <td>0.2</td>\n",
       "      <td>Iris-setosa</td>\n",
       "    </tr>\n",
       "    <tr>\n",
       "      <th>3</th>\n",
       "      <td>4.6</td>\n",
       "      <td>3.1</td>\n",
       "      <td>1.5</td>\n",
       "      <td>0.2</td>\n",
       "      <td>Iris-setosa</td>\n",
       "    </tr>\n",
       "    <tr>\n",
       "      <th>4</th>\n",
       "      <td>5.0</td>\n",
       "      <td>3.6</td>\n",
       "      <td>1.4</td>\n",
       "      <td>0.2</td>\n",
       "      <td>Iris-setosa</td>\n",
       "    </tr>\n",
       "  </tbody>\n",
       "</table>\n",
       "</div>"
      ],
      "text/plain": [
       "     0    1    2    3            4\n",
       "0  5.1  3.5  1.4  0.2  Iris-setosa\n",
       "1  4.9  3.0  1.4  0.2  Iris-setosa\n",
       "2  4.7  3.2  1.3  0.2  Iris-setosa\n",
       "3  4.6  3.1  1.5  0.2  Iris-setosa\n",
       "4  5.0  3.6  1.4  0.2  Iris-setosa"
      ]
     },
     "execution_count": 3,
     "metadata": {},
     "output_type": "execute_result"
    }
   ],
   "source": [
    "",
    "import pandas as pd\n",
    "import numpy as np\n",
    "from sklearn.preprocessing import LabelEncoder\n",
    "\n",
    "df = pd.read_csv(\"iris.data\", header=None)\n",
    "X = df[[0,1,2,3]].values\n",
    "y = df[[4]].values\n",
    "\n",
    "encoder = LabelEncoder()\n",
    "label_encoder = encoder.fit(y)\n",
    "y = label_encoder.transform(y)\n",
    "label_dict = {0:'Iris-setosa',1:'Iris-versicolor',2:'Iris-virginica'}\n",
    "df.head()"
   ]
  },
  {
   "cell_type": "code",
   "execution_count": 4,
   "metadata": {},
   "outputs": [
    {
     "name": "stdout",
     "output_type": "stream",
     "text": [
      "Mean Vector class 0 Iris-setosa: \n",
      "[5.006 3.418 1.464 0.244]\n",
      "Mean Vector class 1 Iris-versicolor: \n",
      "[5.936 2.77  4.26  1.326]\n",
      "Mean Vector class 2 Iris-virginica: \n",
      "[6.588 2.974 5.552 2.026]\n"
     ]
    }
   ],
   "source": [
    "### 1. Computing mean vector m of each class\n",
    "\n",
    "np.set_printoptions(precision=4)\n",
    "\n",
    "mean_vectors = []\n",
    "for cl in range(3):\n",
    "    mean_vectors.append(np.mean(X[y==cl],axis=0))\n",
    "    print('Mean Vector class %s %s: \\n%s' %(cl, label_dict[cl] ,mean_vectors[cl]))"
   ]
  },
  {
   "cell_type": "code",
   "execution_count": 5,
   "metadata": {},
   "outputs": [
    {
     "name": "stdout",
     "output_type": "stream",
     "text": [
      "scatter of class 0 Iris-setosa : \n",
      "[[6.0882 4.9146 0.7908 0.5168]\n",
      " [4.9146 7.1138 0.5724 0.5604]\n",
      " [0.7908 0.5724 1.4752 0.2792]\n",
      " [0.5168 0.5604 0.2792 0.5632]]\n",
      "scatter of class 1 Iris-versicolor : \n",
      "[[13.0552  4.174   8.962   2.7332]\n",
      " [ 4.174   4.825   4.05    2.019 ]\n",
      " [ 8.962   4.05   10.82    3.582 ]\n",
      " [ 2.7332  2.019   3.582   1.9162]]\n",
      "scatter of class 2 Iris-virginica : \n",
      "[[19.8128  4.5944 14.8612  2.4056]\n",
      " [ 4.5944  5.0962  3.4976  2.3338]\n",
      " [14.8612  3.4976 14.9248  2.3924]\n",
      " [ 2.4056  2.3338  2.3924  3.6962]]\n"
     ]
    }
   ],
   "source": [
    "### 2. Computing the Scatter Matrices S_W\n",
    "\n",
    "# 2.1 within-class scatters of each class S\n",
    "scatter_list = [] # save scatter matrix of every class\n",
    "\n",
    "for cl,mv in zip(range(3), mean_vectors):\n",
    "    one_class_sc_mat = np.zeros((4,4))              # scatter matrix for every class\n",
    "    for row in X[y==cl]:\n",
    "        row, mv = row.reshape(4,1), mv.reshape(4,1) # make column vectors\n",
    "        one_class_sc_mat += (row-mv).dot((row-mv).T)\n",
    "    scatter_list.append(one_class_sc_mat)\n",
    "    print('scatter of class %s %s : \\n%s' % (cl, label_dict[cl], scatter_list[cl]))\n"
   ]
  },
  {
   "cell_type": "code",
   "execution_count": 6,
   "metadata": {},
   "outputs": [],
   "source": [
    "# 2.2 computing the Scatter Matrices for each pair\n",
    "# Iris-setosa +  Iris-versicolor - \n",
    "S_W_01 = scatter_list[0] + scatter_list[1]\n",
    "\n",
    "# Iris-setosa  + Iris-virginica -\n",
    "S_W_02 = scatter_list[0] + scatter_list[2]\n",
    "\n",
    "# Iris-versicolor + Iris-virginica -\n",
    "S_W_12 = scatter_list[1] + scatter_list[2]"
   ]
  },
  {
   "cell_type": "code",
   "execution_count": 7,
   "metadata": {},
   "outputs": [
    {
     "name": "stdout",
     "output_type": "stream",
     "text": [
      "[ 0.029   0.1879 -0.2167 -0.3325]\n",
      "[ 0.0417  0.2398 -0.2632 -0.6129]\n",
      "[ 0.0126  0.0519 -0.0466 -0.2804]\n"
     ]
    }
   ],
   "source": [
    "### 3. calculate ww = (S_W)^-1 (m_1-m_2)\n",
    "\n",
    "# Iris-setosa +   Iris-versicolor - \n",
    "ww_01 = np.linalg.inv(S_W_01).dot(mean_vectors[0]-mean_vectors[1])\n",
    "\n",
    "# Iris-setosa +   Iris-virginica -\n",
    "ww_02 = np.linalg.inv(S_W_01).dot(mean_vectors[0]-mean_vectors[2])\n",
    "\n",
    "# Iris-versicolor +   Iris-virginica -\n",
    "ww_12 = np.linalg.inv(S_W_01).dot(mean_vectors[1]-mean_vectors[2])\n",
    "\n",
    "print ww_01\n",
    "print ww_02\n",
    "print ww_12"
   ]
  },
  {
   "cell_type": "code",
   "execution_count": 84,
   "metadata": {},
   "outputs": [
    {
     "name": "stdout",
     "output_type": "stream",
     "text": [
      "accuracy of classifying Iris-setosa and Iris-versicolor 1.0\n"
     ]
    }
   ],
   "source": [
    "# test boundary of class 0 Iris-setosa and 1 Iris-versicolor\n",
    "acc = 0\n",
    "total = 0 \n",
    "for data in df.loc[df[4] != 'Iris-virginica'].values:\n",
    "    if data[4] == 'Iris-setosa' and data[:4].dot(ww_01) > 0:\n",
    "        acc += 1\n",
    "    if data[4] == 'Iris-versicolor' and data[:4].dot(ww_01) < 0:\n",
    "        acc += 1\n",
    "    total += 1\n",
    "print 'accuracy of classifying Iris-setosa and Iris-versicolor', acc * 1.0 / total"
   ]
  },
  {
   "cell_type": "code",
   "execution_count": 85,
   "metadata": {},
   "outputs": [
    {
     "name": "stdout",
     "output_type": "stream",
     "text": [
      "accuracy of classifying Iris-setosa and Iris-virginica 1.0\n"
     ]
    }
   ],
   "source": [
    "# test boundary of class 0 Iris-setosa and 2 Iris-virginica\n",
    "acc = 0\n",
    "total = 0 \n",
    "for data in df.loc[df[4] != 'Iris-versicolor'].values:\n",
    "    if data[4] == 'Iris-setosa' and data[:4].dot(ww_02) > 0:\n",
    "        acc += 1\n",
    "    if data[4] == 'Iris-virginica' and data[:4].dot(ww_02) < 0:\n",
    "        acc += 1\n",
    "    total += 1\n",
    "print 'accuracy of classifying Iris-setosa and Iris-virginica', acc * 1.0 / total"
   ]
  },
  {
   "cell_type": "code",
   "execution_count": 86,
   "metadata": {},
   "outputs": [
    {
     "name": "stdout",
     "output_type": "stream",
     "text": [
      "accuracy of classifying Iris-versicolor and Iris-virginica 0.5\n"
     ]
    }
   ],
   "source": [
    "# test boundary of class 1 Iris-versicolor and 2 Iris-virginica\n",
    "acc = 0\n",
    "total = 0 \n",
    "for data in df.loc[df[4] != 'Iris-setosa'].values:\n",
    "    if data[4] == 'Iris-versicolor' and data[:4].dot(ww_12) > 0:\n",
    "        acc += 1\n",
    "    if data[4] == 'Iris-virginica' and data[:4].dot(ww_12) < 0:\n",
    "        acc += 1\n",
    "    total += 1\n",
    "print 'accuracy of classifying Iris-versicolor and Iris-virginica', acc * 1.0 / total"
   ]
  },
  {
   "cell_type": "code",
   "execution_count": null,
   "metadata": {},
   "outputs": [],
   "source": []
  }
 ],
 "metadata": {
  "kernelspec": {
   "display_name": "Python 2",
   "language": "python",
   "name": "python2"
  },
  "language_info": {
   "codemirror_mode": {
    "name": "ipython",
    "version": 2
   },
   "file_extension": ".py",
   "mimetype": "text/x-python",
   "name": "python",
   "nbconvert_exporter": "python",
   "pygments_lexer": "ipython2",
   "version": "2.7.15"
  }
 },
 "nbformat": 4,
 "nbformat_minor": 2
}

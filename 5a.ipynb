{
 "cells": [
  {
   "cell_type": "code",
   "execution_count": 25,
   "metadata": {},
   "outputs": [
    {
     "name": "stdout",
     "output_type": "stream",
     "text": [
      "   Ratings     Gross    Budget  Sentiment     Views     Likes  Dislikes  \\\n",
      "0      6.3  0.000010  0.015724   0.567164  0.100528  0.012458  0.030375   \n",
      "1      7.1  0.298598  0.199776   0.597015  0.017857  0.009308  0.004298   \n",
      "\n",
      "   Comments  \n",
      "0  0.016578  \n",
      "1  0.004848  \n"
     ]
    }
   ],
   "source": [
    "import pandas as pd\n",
    "import numpy as np\n",
    "from scipy.stats import zscore\n",
    "from sklearn.linear_model import Lasso, Ridge\n",
    "from sklearn.metrics import mean_squared_error\n",
    "from sklearn.cross_validation import train_test_split\n",
    "from matplotlib import pyplot as plt\n",
    "\n",
    "filename = 'data1.xlsx'\n",
    "data = pd.read_excel(filename)\n",
    "\n",
    "# data processing\n",
    "\"\"\"\n",
    "Index([u'Movie', u'Year', u'Ratings', u'Genre', u'Gross', u'Budget',\n",
    "       u'Screens', u'Sequel', u'Sentiment', u'Views', u'Likes', u'Dislikes',\n",
    "       u'Comments', u'Aggregate Followers'],\n",
    "      dtype='object')\n",
    "\"\"\"\n",
    "# drop columns\n",
    "data.drop(['Movie', 'Year','Genre', 'Screens', 'Sequel', 'Aggregate Followers'], axis=1,inplace=True)\n",
    "\n",
    "# missing value\n",
    "data = data.fillna(data.mean())\n",
    "\n",
    "#delete abnormal data\n",
    "data.drop(data.loc[data['Likes'] < 10].index, inplace=True)\n",
    "\n",
    "# normalize some columns (.mean)\n",
    "for column in data.columns:\n",
    "    if column != 'Ratings':\n",
    "        data[column] = (data[column] - data[column].min()) / (data[column].max() - data[column].min())\n",
    "\n",
    "# data = data.apply(zscore) # standardize all columns\n",
    "\n",
    "print data.head(2)\n",
    "\n",
    "# split data into train 0.8 / test 0.2\n",
    "X_train, X_test, y_train, y_test = train_test_split(data.values[:,1:], data.values[:,0], test_size=0.2, random_state=1)"
   ]
  },
  {
   "cell_type": "code",
   "execution_count": 26,
   "metadata": {},
   "outputs": [],
   "source": [
    "def avg(L=[]):\n",
    "    return reduce(lambda x,y:x+y,L)*1.0/len(L)"
   ]
  },
  {
   "cell_type": "code",
   "execution_count": 27,
   "metadata": {},
   "outputs": [
    {
     "name": "stdout",
     "output_type": "stream",
     "text": [
      "alpha = 0.5 \t avg val MSE = 1.0368407600308642 \t avg training MSE = 0.9075110918209877\n",
      "alpha = 0.25 \t avg val MSE = 1.036840760030864 \t avg training MSE = 0.9075110918209877\n",
      "alpha = 0.125 \t avg val MSE = 1.0368407600308636 \t avg training MSE = 0.9075110918209871\n",
      "alpha = 0.0625 \t avg val MSE = 1.0368407600308633 \t avg training MSE = 0.9075110918209868\n",
      "alpha = 0.03125 \t avg val MSE = 1.0300851165683005 \t avg training MSE = 0.8991799656696294\n",
      "alpha = 0.015625 \t avg val MSE = 1.0254646445024211 \t avg training MSE = 0.8775948024525354\n",
      "alpha = 0.0078125 \t avg val MSE = 1.0227457376517044 \t avg training MSE = 0.8535837910850336\n",
      "alpha = 0.00390625 \t avg val MSE = 1.020203859412153 \t avg training MSE = 0.8304743717878182\n",
      "alpha = 0.001953125 \t avg val MSE = 1.0212922822990014 \t avg training MSE = 0.8110485363683254\n",
      "alpha = 0.0009765625 \t avg val MSE = 1.0246085401934568 \t avg training MSE = 0.795128733681596\n"
     ]
    }
   ],
   "source": [
    "# lasso regression\n",
    "\n",
    "alpha_list = []\n",
    "for i in range(10):\n",
    "    alpha_list.append(1.0/(2**(i+1)))\n",
    "                                            \n",
    "val_mse_list = []  # save validation error in each run\n",
    "train_mse_list = [] # save training error in each run\n",
    "\n",
    "val_mse_dic = {} # save alpha and validation mse\n",
    "model_dic = {} # save alpha and models\n",
    "\n",
    "for alpha in alpha_list:\n",
    "    \n",
    "    model = Lasso(alpha=alpha, max_iter=1000)\n",
    "    for i in range(10):\n",
    "        X_train_tmp, X_val_tmp, y_train_tmp, y_val_tmp = train_test_split(X_train, y_train, test_size=0.2, random_state=1)\n",
    "        model.fit(X_train_tmp, y_train_tmp)\n",
    "        \n",
    "        # training results\n",
    "        y_train_pred = model.predict(X_train_tmp)\n",
    "        train_mse = mean_squared_error(y_train_tmp, y_train_pred)\n",
    "        train_mse_list.append(train_mse)\n",
    "        \n",
    "        # test model in validation set\n",
    "        y_val_pred = model.predict(X_val_tmp)\n",
    "        val_mse = mean_squared_error(y_val_tmp, y_val_pred)\n",
    "        val_mse_list.append(val_mse)\n",
    "        \n",
    "    val_mse_dic[alpha]=avg(val_mse_list)\n",
    "    model_dic[alpha]=model\n",
    "    \n",
    "    print 'alpha =', alpha, '\\t avg val MSE =', avg(val_mse_list),'\\t avg training MSE =', avg(train_mse_list)"
   ]
  },
  {
   "cell_type": "code",
   "execution_count": 28,
   "metadata": {},
   "outputs": [
    {
     "name": "stdout",
     "output_type": "stream",
     "text": [
      "(mean, std) of training error is (0.795128733681596, 0.10930060495905462)\n",
      "testing MSE is  0.8074606581796347\n",
      "model score is  0.317100255260796\n"
     ]
    },
    {
     "data": {
      "text/html": [
       "<div>\n",
       "<style scoped>\n",
       "    .dataframe tbody tr th:only-of-type {\n",
       "        vertical-align: middle;\n",
       "    }\n",
       "\n",
       "    .dataframe tbody tr th {\n",
       "        vertical-align: top;\n",
       "    }\n",
       "\n",
       "    .dataframe thead th {\n",
       "        text-align: right;\n",
       "    }\n",
       "</style>\n",
       "<table border=\"1\" class=\"dataframe\">\n",
       "  <thead>\n",
       "    <tr style=\"text-align: right;\">\n",
       "      <th></th>\n",
       "      <th>difference</th>\n",
       "      <th>y_test_pred</th>\n",
       "      <th>y_test_true</th>\n",
       "    </tr>\n",
       "  </thead>\n",
       "  <tbody>\n",
       "    <tr>\n",
       "      <th>0</th>\n",
       "      <td>1.124772</td>\n",
       "      <td>6.475228</td>\n",
       "      <td>7.6</td>\n",
       "    </tr>\n",
       "    <tr>\n",
       "      <th>1</th>\n",
       "      <td>-0.279932</td>\n",
       "      <td>6.379932</td>\n",
       "      <td>6.1</td>\n",
       "    </tr>\n",
       "    <tr>\n",
       "      <th>2</th>\n",
       "      <td>-0.720987</td>\n",
       "      <td>6.420987</td>\n",
       "      <td>5.7</td>\n",
       "    </tr>\n",
       "    <tr>\n",
       "      <th>3</th>\n",
       "      <td>-2.636908</td>\n",
       "      <td>5.736908</td>\n",
       "      <td>3.1</td>\n",
       "    </tr>\n",
       "    <tr>\n",
       "      <th>4</th>\n",
       "      <td>-1.146373</td>\n",
       "      <td>6.346373</td>\n",
       "      <td>5.2</td>\n",
       "    </tr>\n",
       "    <tr>\n",
       "      <th>5</th>\n",
       "      <td>1.155039</td>\n",
       "      <td>6.244961</td>\n",
       "      <td>7.4</td>\n",
       "    </tr>\n",
       "    <tr>\n",
       "      <th>6</th>\n",
       "      <td>0.718412</td>\n",
       "      <td>6.381588</td>\n",
       "      <td>7.1</td>\n",
       "    </tr>\n",
       "    <tr>\n",
       "      <th>7</th>\n",
       "      <td>-0.622144</td>\n",
       "      <td>6.122144</td>\n",
       "      <td>5.5</td>\n",
       "    </tr>\n",
       "    <tr>\n",
       "      <th>8</th>\n",
       "      <td>1.100840</td>\n",
       "      <td>7.499160</td>\n",
       "      <td>8.6</td>\n",
       "    </tr>\n",
       "    <tr>\n",
       "      <th>9</th>\n",
       "      <td>-0.203716</td>\n",
       "      <td>6.603716</td>\n",
       "      <td>6.4</td>\n",
       "    </tr>\n",
       "  </tbody>\n",
       "</table>\n",
       "</div>"
      ],
      "text/plain": [
       "   difference  y_test_pred  y_test_true\n",
       "0    1.124772     6.475228          7.6\n",
       "1   -0.279932     6.379932          6.1\n",
       "2   -0.720987     6.420987          5.7\n",
       "3   -2.636908     5.736908          3.1\n",
       "4   -1.146373     6.346373          5.2\n",
       "5    1.155039     6.244961          7.4\n",
       "6    0.718412     6.381588          7.1\n",
       "7   -0.622144     6.122144          5.5\n",
       "8    1.100840     7.499160          8.6\n",
       "9   -0.203716     6.603716          6.4"
      ]
     },
     "execution_count": 28,
     "metadata": {},
     "output_type": "execute_result"
    }
   ],
   "source": [
    "# select model\n",
    "alpha = min(val_mse_dic)\n",
    "model = model_dic[alpha]\n",
    "\n",
    "# test model\n",
    "y_test_pred = model.predict(X_test)\n",
    "test_mse = mean_squared_error(y_test, y_test_pred)\n",
    "\n",
    "print '(mean, std) of training error is',(avg(train_mse_list),np.std(train_mse_list))\n",
    "print 'testing MSE is ', test_mse\n",
    "print 'model score is ',model.score(X_test,y_test)\n",
    "\n",
    "pd.DataFrame({'y_test_true': y_test, 'y_test_pred': y_test_pred, 'difference': y_test-y_test_pred}).head(10)"
   ]
  },
  {
   "cell_type": "code",
   "execution_count": 29,
   "metadata": {},
   "outputs": [
    {
     "data": {
      "text/plain": [
       "Text(0,0.5,'Movie Ratings')"
      ]
     },
     "execution_count": 29,
     "metadata": {},
     "output_type": "execute_result"
    },
    {
     "data": {
      "image/png": "[encoded data removed]",
      "text/plain": [
       "<Figure size 432x288 with 1 Axes>"
      ]
     },
     "metadata": {},
     "output_type": "display_data"
    }
   ],
   "source": [
    "%matplotlib inline\n",
    "plt.plot(list(range(len(y_test_pred))),y_test_pred, label='test_pred')\n",
    "plt.plot(list(range(len(y_test))),y_test, label='test_true')\n",
    "plt.title('Lasso: testing result')\n",
    "plt.legend()\n",
    "plt.xlabel('Movies')\n",
    "plt.ylabel('Movie Ratings')"
   ]
  },
  {
   "cell_type": "code",
   "execution_count": 30,
   "metadata": {},
   "outputs": [
    {
     "name": "stdout",
     "output_type": "stream",
     "text": [
      "alpha = 1.0 \t avg val MSE = 0.95855440368362 \t avg training MSE = 0.7236802647063926\n",
      "alpha = 0.5 \t avg val MSE = 0.9640331968430498 \t avg training MSE = 0.7076475926767203\n",
      "alpha = 0.25 \t avg val MSE = 0.9731786748718396 \t avg training MSE = 0.6950649795210107\n",
      "alpha = 0.125 \t avg val MSE = 0.9843229782492353 \t avg training MSE = 0.6858756798317851\n",
      "alpha = 0.0625 \t avg val MSE = 0.9957356545083401 \t avg training MSE = 0.6793611084262879\n",
      "alpha = 0.03125 \t avg val MSE = 1.0062673553786599 \t avg training MSE = 0.6747099442605738\n",
      "alpha = 0.015625 \t avg val MSE = 1.0154129024652565 \t avg training MSE = 0.6713006222366817\n",
      "alpha = 0.0078125 \t avg val MSE = 1.0231046807067914 \t avg training MSE = 0.6687207623923622\n",
      "alpha = 0.00390625 \t avg val MSE = 1.0294925626350206 \t avg training MSE = 0.6667085324356777\n",
      "alpha = 0.001953125 \t avg val MSE = 1.0347945183747875 \t avg training MSE = 0.6650973917890933\n"
     ]
    }
   ],
   "source": [
    "# Ridge regression\n",
    "alpha_list = []\n",
    "for i in range(10):\n",
    "    alpha_list.append(2.0/(2**(i+1)))\n",
    "\n",
    "val_mse_dic = {}\n",
    "val_mse_list = []\n",
    "train_mse_list = []\n",
    "model_dic = {}\n",
    "\n",
    "for alpha in alpha_list:\n",
    "    \n",
    "    model = Ridge(alpha=alpha, max_iter=1000)\n",
    "    for i in range(10):\n",
    "        X_train_tmp, X_val_tmp, y_train_tmp, y_val_tmp = train_test_split(X_train, y_train, test_size=0.2, random_state=1)\n",
    "        model.fit(X_train_tmp, y_train_tmp)\n",
    "        \n",
    "        # training results\n",
    "        y_train_pred = model.predict(X_train_tmp)\n",
    "        train_mse = mean_squared_error(y_train_tmp, y_train_pred)\n",
    "        train_mse_list.append(train_mse)\n",
    "        \n",
    "        # test model in validation set\n",
    "        y_val_pred = model.predict(X_val_tmp)\n",
    "        val_mse = mean_squared_error(y_val_tmp, y_val_pred)\n",
    "        val_mse_list.append(val_mse)\n",
    "        \n",
    "    val_mse_dic[alpha]=avg(val_mse_list)\n",
    "    model_dic[alpha]=model\n",
    "    print 'alpha =', alpha, '\\t avg val MSE =', avg(val_mse_list),'\\t avg training MSE =', avg(train_mse_list)"
   ]
  },
  {
   "cell_type": "code",
   "execution_count": 31,
   "metadata": {},
   "outputs": [
    {
     "name": "stdout",
     "output_type": "stream",
     "text": [
      "(mean, std) of training error is (0.6650973917890933, 0.02315425244458876)\n",
      "testing error is  0.8054626985471043\n",
      "model score is  0.31879000461171825\n"
     ]
    },
    {
     "data": {
      "text/html": [
       "<div>\n",
       "<style scoped>\n",
       "    .dataframe tbody tr th:only-of-type {\n",
       "        vertical-align: middle;\n",
       "    }\n",
       "\n",
       "    .dataframe tbody tr th {\n",
       "        vertical-align: top;\n",
       "    }\n",
       "\n",
       "    .dataframe thead th {\n",
       "        text-align: right;\n",
       "    }\n",
       "</style>\n",
       "<table border=\"1\" class=\"dataframe\">\n",
       "  <thead>\n",
       "    <tr style=\"text-align: right;\">\n",
       "      <th></th>\n",
       "      <th>difference</th>\n",
       "      <th>y_test_pred</th>\n",
       "      <th>y_test_true</th>\n",
       "    </tr>\n",
       "  </thead>\n",
       "  <tbody>\n",
       "    <tr>\n",
       "      <th>0</th>\n",
       "      <td>1.125698</td>\n",
       "      <td>6.474302</td>\n",
       "      <td>7.6</td>\n",
       "    </tr>\n",
       "    <tr>\n",
       "      <th>1</th>\n",
       "      <td>-0.243844</td>\n",
       "      <td>6.343844</td>\n",
       "      <td>6.1</td>\n",
       "    </tr>\n",
       "    <tr>\n",
       "      <th>2</th>\n",
       "      <td>-0.737349</td>\n",
       "      <td>6.437349</td>\n",
       "      <td>5.7</td>\n",
       "    </tr>\n",
       "    <tr>\n",
       "      <th>3</th>\n",
       "      <td>-2.644480</td>\n",
       "      <td>5.744480</td>\n",
       "      <td>3.1</td>\n",
       "    </tr>\n",
       "    <tr>\n",
       "      <th>4</th>\n",
       "      <td>-1.176565</td>\n",
       "      <td>6.376565</td>\n",
       "      <td>5.2</td>\n",
       "    </tr>\n",
       "    <tr>\n",
       "      <th>5</th>\n",
       "      <td>1.155738</td>\n",
       "      <td>6.244262</td>\n",
       "      <td>7.4</td>\n",
       "    </tr>\n",
       "    <tr>\n",
       "      <th>6</th>\n",
       "      <td>0.689422</td>\n",
       "      <td>6.410578</td>\n",
       "      <td>7.1</td>\n",
       "    </tr>\n",
       "    <tr>\n",
       "      <th>7</th>\n",
       "      <td>-0.553076</td>\n",
       "      <td>6.053076</td>\n",
       "      <td>5.5</td>\n",
       "    </tr>\n",
       "    <tr>\n",
       "      <th>8</th>\n",
       "      <td>1.088408</td>\n",
       "      <td>7.511592</td>\n",
       "      <td>8.6</td>\n",
       "    </tr>\n",
       "    <tr>\n",
       "      <th>9</th>\n",
       "      <td>-0.193951</td>\n",
       "      <td>6.593951</td>\n",
       "      <td>6.4</td>\n",
       "    </tr>\n",
       "  </tbody>\n",
       "</table>\n",
       "</div>"
      ],
      "text/plain": [
       "   difference  y_test_pred  y_test_true\n",
       "0    1.125698     6.474302          7.6\n",
       "1   -0.243844     6.343844          6.1\n",
       "2   -0.737349     6.437349          5.7\n",
       "3   -2.644480     5.744480          3.1\n",
       "4   -1.176565     6.376565          5.2\n",
       "5    1.155738     6.244262          7.4\n",
       "6    0.689422     6.410578          7.1\n",
       "7   -0.553076     6.053076          5.5\n",
       "8    1.088408     7.511592          8.6\n",
       "9   -0.193951     6.593951          6.4"
      ]
     },
     "execution_count": 31,
     "metadata": {},
     "output_type": "execute_result"
    }
   ],
   "source": [
    "# select model\n",
    "alpha = min(val_mse_dic)\n",
    "model = model_dic[alpha]\n",
    "\n",
    "# test model\n",
    "y_test_pred = model.predict(X_test)\n",
    "test_mse = mean_squared_error(y_test, y_test_pred)\n",
    "\n",
    "print '(mean, std) of training error is',(avg(train_mse_list),np.std(train_mse_list))\n",
    "print 'testing error is ', test_mse\n",
    "print 'model score is ',model.score(X_test,y_test)\n",
    "\n",
    "pd.DataFrame({'y_test_true': y_test, 'y_test_pred': y_test_pred, 'difference': y_test-y_test_pred}).head(10)\n"
   ]
  },
  {
   "cell_type": "code",
   "execution_count": 32,
   "metadata": {},
   "outputs": [
    {
     "data": {
      "text/plain": [
       "Text(0,0.5,'Movie Ratings')"
      ]
     },
     "execution_count": 32,
     "metadata": {},
     "output_type": "execute_result"
    },
    {
     "data": {
      "image/png": "[encoded data removed]",
      "text/plain": [
       "<Figure size 432x288 with 1 Axes>"
      ]
     },
     "metadata": {},
     "output_type": "display_data"
    }
   ],
   "source": [
    "%matplotlib inline\n",
    "plt.plot(list(range(len(y_test_pred))),y_test_pred, label='test_pred')\n",
    "plt.plot(list(range(len(y_test))),y_test, label='test_true')\n",
    "plt.title('Ridge: testing result')\n",
    "plt.legend()\n",
    "plt.xlabel('Movies')\n",
    "plt.ylabel('Movie Ratings')"
   ]
  },
  {
   "cell_type": "code",
   "execution_count": null,
   "metadata": {},
   "outputs": [],
   "source": []
  }
 ],
 "metadata": {
  "kernelspec": {
   "display_name": "Python 2",
   "language": "python",
   "name": "python2"
  },
  "language_info": {
   "codemirror_mode": {
    "name": "ipython",
    "version": 2
   },
   "file_extension": ".py",
   "mimetype": "text/x-python",
   "name": "python",
   "nbconvert_exporter": "python",
   "pygments_lexer": "ipython2",
   "version": "2.7.15"
  }
 },
 "nbformat": 4,
 "nbformat_minor": 2
}

{
 "cells": [
  {
   "cell_type": "code",
   "execution_count": 17,
   "metadata": {},
   "outputs": [],
   "source": [
    "# Songgaojun Deng 10442772\n",
    "import numpy as np\n",
    "import json\n",
    "import itertools\n",
    "import collections\n",
    "import pandas as pd\n",
    "from sklearn.svm import SVC,NuSVC\n",
    "import matplotlib.pyplot as plt\n",
    "%matplotlib inline"
   ]
  },
  {
   "cell_type": "markdown",
   "metadata": {},
   "source": [
    "Generate XOR data.  2, 3, and 4 dimension\n",
    "\n",
    "1. first we define the xor_decimal function to create more nodes with noises. Using only integer values (0/1) will make all the limited integer nodes becoming support vectors.\n",
    "2. randomly create input elements\n",
    "3. calculate xor and save it to file\n"
   ]
  },
  {
   "cell_type": "code",
   "execution_count": 18,
   "metadata": {},
   "outputs": [],
   "source": [
    "# xor function. if the value of an element is less than 0.5 we consider it 0, and otherwise 1\n",
    "def xor_decimal(a,b):\n",
    "    a = 0 if a<0.5 else 1\n",
    "    b = 0 if b<0.5 else 1\n",
    "    return int(np.logical_xor(a,b))\n",
    "\n",
    "\n",
    "# randomly create input elements  -------------------- (2 dimention)\n",
    "n = 40\n",
    "a, b = [], []\n",
    "for i in range(n):\n",
    "    a.append(np.random.randint(0,2)+ np.random.random()*0.4)\n",
    "    b.append(np.random.randint(0,2)+ np.random.random()*0.4)\n",
    "\n",
    "# calculate xor and save it to file (2 dimention)\n",
    "for i in range(n):\n",
    "    y = xor_decimal(a[i],b[i])\n",
    "    with open('xor2_decimal.json','a') as outfile:\n",
    "        d = {'x1':a[i],'x2':b[i], 'y':y}\n",
    "        dd = collections.OrderedDict(sorted(d.items()))\n",
    "        json.dump(dd, outfile)\n",
    "        outfile.write('\\n')\n",
    "        \n",
    "# randomly create input elements  -------------------- (3 dimention)\n",
    "n = 60\n",
    "a, b, c = [], [], []\n",
    "for i in range(n):\n",
    "    a.append(np.random.randint(0,2)+ np.random.random()*0.4)\n",
    "    b.append(np.random.randint(0,2)+ np.random.random()*0.4)\n",
    "    c.append(np.random.randint(0,2)+ np.random.random()*0.4)\n",
    "\n",
    "    # calculate xor and save it to file (3 dimention)\n",
    "for i in range(n):\n",
    "    c_t = xor_decimal(a[i],b[i])\n",
    "    y = xor_decimal(c_t,c[i])\n",
    "    with open('xor3_decimal.json','a') as outfile:\n",
    "        r = {'x1':a[i],'x2':b[i],'x3':c[i],'y':y}\n",
    "        r = collections.OrderedDict(sorted(r.items()))\n",
    "        json.dump(r, outfile)\n",
    "        outfile.write('\\n')\n",
    "        \n",
    "# randomly create input elements  -------------------- (4 dimention)\n",
    "n = 80\n",
    "a, b, c, d = [], [], [], []\n",
    "for i in range(n):\n",
    "    a.append(np.random.randint(0,2)+ np.random.random()*0.4)\n",
    "    b.append(np.random.randint(0,2)+ np.random.random()*0.4)\n",
    "    c.append(np.random.randint(0,2)+ np.random.random()*0.4)\n",
    "    d.append(np.random.randint(0,2)+ np.random.random()*0.4)\n",
    "\n",
    "# calculate xor and save it to file (4 dimention)\n",
    "for i in range(n):\n",
    "    t1 = xor_decimal(a[i],b[i])\n",
    "    t2 = xor_decimal(c[i],d[i])\n",
    "    y = xor_decimal(t1,t2)\n",
    "    with open('xor4_decimal.json','a') as outfile:\n",
    "        r = {'x1':a[i],'x2':b[i],'x3':c[i],'x4':d[i],'y':y}\n",
    "        r = collections.OrderedDict(sorted(r.items()))\n",
    "        json.dump(r, outfile)\n",
    "        outfile.write('\\n')"
   ]
  },
  {
   "cell_type": "markdown",
   "metadata": {},
   "source": [
    "Define a function to implement 2-dimention XOR svm and draw results. \n",
    "\n",
    "In this function, I print the support vectors the algorithm choosed; support vector ids for futhur removing \n",
    "the support vector; number of support vectors; total number of samples; accuracy of the algorithm. Besides,\n",
    "I draw the points, boundary and margins in plot, in which we could understand more easily."
   ]
  },
  {
   "cell_type": "code",
   "execution_count": 36,
   "metadata": {},
   "outputs": [],
   "source": [
    "def svm_and_draw(X,y):\n",
    "    clf = SVC(kernel='rbf',gamma=3.2) # choose the kernel function RBF, and set the parameters Gamma 3.2 experimentally\n",
    "    clf.fit(X, y)\n",
    "    print 'support_vectors_ \\n',clf.support_vectors_ \n",
    "    print 'support_vectors_ ids',clf.support_ \n",
    "    print 'number of support vectors', len(clf.support_)\n",
    "    print 'sample size',len(y)\n",
    "    print 'accuracy',clf.score(X,y)\n",
    "#     print clf.decision_function(clf.support_vectors_)\n",
    "#     print 'avg_margin' , np.mean(np.absolute((clf.decision_function(clf.support_vectors_))))\n",
    "\n",
    "    #  ------------------------------------- draw figure below\n",
    "    fignum = 1\n",
    "    plt.figure(fignum, figsize=(4, 3))\n",
    "    plt.clf()\n",
    "    plt.scatter(clf.support_vectors_[:, 0], clf.support_vectors_[:, 1], s=80, facecolors='none', zorder=10, edgecolors='k')\n",
    "    plt.scatter(X[:, 0], X[:, 1], c=y, zorder=10, cmap=plt.cm.Paired, edgecolors='k')\n",
    "    plt.axis('tight')\n",
    "    x_min = -1\n",
    "    x_max = 2.4\n",
    "    y_min = -1\n",
    "    y_max = 2.4\n",
    "    XX, YY = np.mgrid[x_min:x_max:200j, y_min:y_max:200j]\n",
    "    Z = clf.decision_function(np.c_[XX.ravel(), YY.ravel()])\n",
    "    Z = Z.reshape(XX.shape) # Put the result into a color plot\n",
    "    plt.figure(fignum, figsize=(4, 3))\n",
    "    plt.pcolormesh(XX, YY, Z > 0, cmap=plt.cm.Paired)\n",
    "    plt.contour(XX, YY, Z, colors=['k', 'k', 'k'], linestyles=['--', '-', '--'], levels=[-.5, 0, .5])\n",
    "    plt.xlim(x_min, x_max)\n",
    "    plt.ylim(y_min, y_max)\n",
    "    plt.xticks(())\n",
    "    plt.yticks(())\n",
    "    plt.show()\n",
    "    \n",
    "    return clf.support_ # return support vector ids\n"
   ]
  },
  {
   "cell_type": "code",
   "execution_count": 37,
   "metadata": {},
   "outputs": [
    {
     "name": "stdout",
     "output_type": "stream",
     "text": [
      "support_vectors_ \n",
      "[[0.04711404 0.01657009]\n",
      " [1.20156732 1.0016412 ]\n",
      " [1.34255745 1.39240692]\n",
      " [0.32392373 0.37045605]\n",
      " [0.348694   0.01007671]\n",
      " [1.36085916 1.07982503]\n",
      " [1.01665126 1.13669739]\n",
      " [1.0872729  0.22513922]\n",
      " [1.38765102 0.09089018]\n",
      " [0.08355741 1.39776383]\n",
      " [0.36271206 1.00313487]\n",
      " [1.0278672  0.00767866]\n",
      " [0.3939022  1.17801008]]\n",
      "support_vectors_ ids [ 2  8 13 17 20 34 35  0 16 22 23 25 39]\n",
      "number of support vectors 13\n",
      "sample size 40\n",
      "accuracy 1.0\n"
     ]
    },
    {
     "data": {
      "image/png": "[encoded data removed]",
      "text/plain": [
       "<Figure size 288x216 with 1 Axes>"
      ]
     },
     "metadata": {},
     "output_type": "display_data"
    }
   ],
   "source": [
    "# implement SVM on 2-dimention XOR dataset and visualize the result. \n",
    "\n",
    "xor2 = pd.read_json('xor2_decimal.json',lines=True) # read data from file\n",
    "X_train = xor2.values[:,:2]\n",
    "y_train = xor2.values[:,2]\n",
    "\n",
    "support_ = svm_and_draw(X_train,y_train)"
   ]
  },
  {
   "cell_type": "code",
   "execution_count": 38,
   "metadata": {},
   "outputs": [
    {
     "name": "stdout",
     "output_type": "stream",
     "text": [
      "support_vectors_ \n",
      "[[0.04711404 0.01657009]\n",
      " [1.20156732 1.0016412 ]\n",
      " [1.34255745 1.39240692]\n",
      " [0.32392373 0.37045605]\n",
      " [0.348694   0.01007671]\n",
      " [1.36085916 1.07982503]\n",
      " [1.01665126 1.13669739]\n",
      " [1.0872729  0.22513922]\n",
      " [1.38765102 0.09089018]\n",
      " [0.08355741 1.39776383]\n",
      " [0.36271206 1.00313487]\n",
      " [1.0278672  0.00767866]\n",
      " [0.3939022  1.17801008]]\n",
      "support_vectors_ ids [ 0  1  2  3  4  5  6  7  8  9 10 11 12]\n",
      "number of support vectors 13\n",
      "sample size 13\n",
      "accuracy 1.0\n"
     ]
    },
    {
     "data": {
      "image/png": "[encoded data removed]",
      "text/plain": [
       "<Figure size 288x216 with 1 Axes>"
      ]
     },
     "metadata": {},
     "output_type": "display_data"
    },
    {
     "data": {
      "text/plain": [
       "array([ 0,  1,  2,  3,  4,  5,  6,  7,  8,  9, 10, 11, 12], dtype=int32)"
      ]
     },
     "execution_count": 38,
     "metadata": {},
     "output_type": "execute_result"
    }
   ],
   "source": [
    "'''\n",
    "Now  begin  deleting the non-support vectors from your dataset and relearn the classifier. What would happen???\n",
    "'''\n",
    "X = X_train[support_] # we only keep support vectors and remove all other samples\n",
    "y = y_train[support_]\n",
    "\n",
    "svm_and_draw(X,y)\n"
   ]
  },
  {
   "cell_type": "markdown",
   "metadata": {},
   "source": [
    "the support vectors are still support vectors, the decision bounday still the same (margins don't change), \n",
    "and the accuracy dose not change. In conclusion, the support vectors are themost important nodes which \n",
    "decide the decision boundary.\n"
   ]
  },
  {
   "cell_type": "code",
   "execution_count": 39,
   "metadata": {},
   "outputs": [
    {
     "name": "stdout",
     "output_type": "stream",
     "text": [
      "support_vectors_ \n",
      "[[0.06831818 0.26241614]\n",
      " [0.35830365 0.06020538]\n",
      " [1.0724332  1.29804541]\n",
      " [0.39327068 0.21689859]\n",
      " [1.31238141 1.34877366]\n",
      " [1.27638311 1.18453741]\n",
      " [1.32236151 0.21531174]\n",
      " [0.15717475 1.37504889]\n",
      " [0.22010528 1.329114  ]\n",
      " [1.36665039 0.05854925]\n",
      " [0.07954357 1.06670197]\n",
      " [1.02765574 0.11949346]]\n",
      "support_vectors_ ids [ 0  1  2  5  8 16 11 13 15 17 18 24]\n",
      "number of support vectors 12\n",
      "sample size 27\n",
      "accuracy 1.0\n"
     ]
    },
    {
     "data": {
      "image/png": "[encoded data removed]",
      "text/plain": [
       "<Figure size 288x216 with 1 Axes>"
      ]
     },
     "metadata": {},
     "output_type": "display_data"
    },
    {
     "data": {
      "text/plain": [
       "array([ 0,  1,  2,  5,  8, 16, 11, 13, 15, 17, 18, 24], dtype=int32)"
      ]
     },
     "execution_count": 39,
     "metadata": {},
     "output_type": "execute_result"
    }
   ],
   "source": [
    "'''\n",
    "What will happen to the margin if the support vectors are removed from the dataset???\n",
    "'''\n",
    "# we remove all support vectors\n",
    "X = np.array(list(itertools.compress(X_train, [i not in support_ for i in range(len(X_train))])))\n",
    "y = np.array(list(itertools.compress(y_train, [i not in support_ for i in range(len(y_train))])))\n",
    "\n",
    "svm_and_draw(X,y)"
   ]
  },
  {
   "cell_type": "markdown",
   "metadata": {},
   "source": [
    "the decision boundary changed as well as the margins. The margins increased"
   ]
  },
  {
   "cell_type": "code",
   "execution_count": 23,
   "metadata": {},
   "outputs": [],
   "source": [
    "# !!! define a function to implement 3- and 4-dimention XOR svm and only print results. \n",
    "\n",
    "def svm_and_print(X,y):\n",
    "    clf = SVC(kernel='rbf',gamma=3.2) # choose the kernel function RBF, and set the parameters Gamma 3.2 experimentally\n",
    "    clf.fit(X, y)\n",
    "#     print 'support_vectors_ \\n',clf.support_vectors_ \n",
    "    print 'support_vectors_ ids',clf.support_ \n",
    "    print 'number of support vectors', len(clf.support_)\n",
    "    print 'sample size',len(y)\n",
    "    print 'accuracy',clf.score(X,y)\n",
    "    print 'avg_margin' , np.mean(np.absolute((clf.decision_function(clf.support_vectors_))))\n",
    "    \n",
    "    return clf.support_ # return support vector ids"
   ]
  },
  {
   "cell_type": "code",
   "execution_count": 24,
   "metadata": {
    "scrolled": true
   },
   "outputs": [
    {
     "name": "stdout",
     "output_type": "stream",
     "text": [
      "support_vectors_ ids [ 0 10 16 17 19 26 28 43 46 47 53 54  7  8  9 13 14 18 32 35 44 50 51 56\n",
      " 59]\n",
      "number of support vectors 25\n",
      "sample size 60\n",
      "accuracy 1.0\n",
      "avg_margin 0.9914813850444275\n",
      "\n",
      "\n",
      "Remove all other points and keep only support vectors. Results are as below. We could see the support vectors didn't change surely the margin also no changes. \n",
      "\n",
      "support_vectors_ ids [ 0  1  2  3  4  5  6  7  8  9 10 11 12 13 14 15 16 17 18 19 20 21 22 23\n",
      " 24]\n",
      "number of support vectors 25\n",
      "sample size 25\n",
      "accuracy 1.0\n",
      "avg_margin 0.9916359880241886\n",
      "\n",
      "\n",
      "Remove all support vectors. Results are as below. We could see the support vectors changed and surely the margin also changed. \n",
      "\n",
      "support_vectors_ ids [ 6 15 17 24 26 29 31 32  2  8 12 14 16 18 22 23 25 27 30]\n",
      "number of support vectors 19\n",
      "sample size 35\n",
      "accuracy 1.0\n",
      "avg_margin 0.9984075567348899\n"
     ]
    }
   ],
   "source": [
    "#implement SVM on 3-dimention XOR dataset. Removing non-support vectors and support vectors.\n",
    "\n",
    "xor3 = pd.read_json('xor3_decimal.json',lines=True)\n",
    "X_train = xor3.values[:,:3]\n",
    "y_train = xor3.values[:,3]\n",
    "\n",
    "X,y = X_train,y_train\n",
    "support_ = svm_and_print(X_train,y_train)\n",
    "\n",
    "\n",
    "#remove non-support\n",
    "print '\\n\\nRemove all other points and keep only support vectors. Results are as below. We could see the support vectors didn\\'t change surely the margin also no changes. \\n'\n",
    "X,y = X[support_],y[support_]\n",
    "_ = svm_and_print(X,y)\n",
    "\n",
    "\n",
    "# remove support vectors\n",
    "print '\\n\\nRemove all support vectors. Results are as below. We could see the support vectors changed and surely the margin also changed. \\n'\n",
    "X = np.array(list(itertools.compress(X_train, [i not in support_ for i in range(len(X_train))])))\n",
    "y = np.array(list(itertools.compress(y_train, [i not in support_ for i in range(len(y_train))])))\n",
    "_ = svm_and_print(X,y)\n"
   ]
  },
  {
   "cell_type": "code",
   "execution_count": 10,
   "metadata": {
    "scrolled": true
   },
   "outputs": [
    {
     "name": "stdout",
     "output_type": "stream",
     "text": [
      "support_vectors_ ids [  6  10  19  28  31  36  49  54  56  60  65  72  79  83  86  91  92  96\n",
      " 101 102 104 106 108 111 114 117 124 128 137 139 141 144 147 148 152 154\n",
      " 157 158   0   1  12  17  20  27  40  41  43  50  55  57  58  62  64  69\n",
      "  70  73  77  81  90  97 103 109 113 115 123 143 145 155]\n",
      "number of support vectors 68\n",
      "sample size 160\n",
      "accuracy 1.0\n",
      "avg_margin 0.9945345726011607\n",
      "\n",
      "\n",
      "Remove all other points and keep only support vectors. Results are as below. We could see the support vectors didn't change surely the margin also no changes. \n",
      "\n",
      "support_vectors_ ids [ 0  1  2  3  4  5  6  7  8  9 10 11 12 13 14 15 16 17 18 19 20 21 22 23\n",
      " 24 25 26 27 28 29 30 31 32 33 34 35 36 37 38 39 40 41 42 43 44 45 46 47\n",
      " 48 49 50 51 52 53 54 55 56 57 58 59 60 61 62 63 64 65 66 67]\n",
      "number of support vectors 68\n",
      "sample size 68\n",
      "accuracy 1.0\n",
      "avg_margin 0.9945305041239944\n",
      "\n",
      "\n",
      "Remove all support vectors. Results are as below. We could see the support vectors changed and surely the margin also changed. \n",
      "\n",
      "support_vectors_ ids [ 3  4  5  8 12 14 20 21 31 32 33 34 35 41 42 44 49 56 58 59 60 74 75 76\n",
      " 79 84 91  2  6  9 11 15 18 25 26 30 36 38 40 43 50 53 54 61 64 65 66 68\n",
      " 71 72 78 83 85]\n",
      "number of support vectors 53\n",
      "sample size 92\n",
      "accuracy 1.0\n",
      "avg_margin 0.9932709157545456\n"
     ]
    }
   ],
   "source": [
    "#implement SVM on 4-dimention XOR dataset. Removing non-support vectors and support vectors.\n",
    "\n",
    "xor4 = pd.read_json('xor4_decimal.json',lines=True)\n",
    "X_train = xor4.values[:,:4]\n",
    "y_train = xor4.values[:,4]\n",
    "\n",
    "X,y = X_train,y_train\n",
    "support_ = svm_and_print(X_train,y_train)\n",
    "\n",
    "\n",
    "#remove non-support\n",
    "print '\\n\\nRemove all other points and keep only support vectors. Results are as below. We could see the support vectors didn\\'t change surely the margin also no changes. \\n'\n",
    "X,y = X[support_],y[support_]\n",
    "_ = svm_and_print(X,y)\n",
    "\n",
    "\n",
    "# remove support vectors\n",
    "print '\\n\\nRemove all support vectors. Results are as below. We could see the support vectors changed and surely the margin also changed. \\n'\n",
    "X = np.array(list(itertools.compress(X_train, [i not in support_ for i in range(len(X_train))])))\n",
    "y = np.array(list(itertools.compress(y_train, [i not in support_ for i in range(len(y_train))])))\n",
    "_ = svm_and_print(X,y)\n"
   ]
  },
  {
   "cell_type": "markdown",
   "metadata": {},
   "source": [
    "In above experiment of 3- and 4-dimention of XOR, we could see, the RBF is still very useful to \n",
    "classify two classes of samples with accuracy=1.0."
   ]
  }
 ],
 "metadata": {
  "kernelspec": {
   "display_name": "Python 2",
   "language": "python",
   "name": "python2"
  },
  "language_info": {
   "codemirror_mode": {
    "name": "ipython",
    "version": 2
   },
   "file_extension": ".py",
   "mimetype": "text/x-python",
   "name": "python",
   "nbconvert_exporter": "python",
   "pygments_lexer": "ipython2",
   "version": "2.7.15"
  }
 },
 "nbformat": 4,
 "nbformat_minor": 2
}

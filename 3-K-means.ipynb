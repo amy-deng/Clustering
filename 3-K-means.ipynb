{
 "cells": [
  {
   "cell_type": "code",
   "execution_count": 89,
   "metadata": {},
   "outputs": [
    {
     "data": {
      "image/png": "[encoded data removed]",
      "text/plain": [
       "<Figure size 432x288 with 1 Axes>"
      ]
     },
     "metadata": {},
     "output_type": "display_data"
    }
   ],
   "source": [
    "import numpy as np\n",
    "import matplotlib.pyplot as plt\n",
    "import random\n",
    "import math\n",
    "from copy import deepcopy\n",
    "%matplotlib inline\n",
    "\n",
    "X = np.array([\n",
    "    [5.5,4.2],\n",
    "    [5.1,3.8],\n",
    "    [4.7,3.2],\n",
    "    [4.9,3.1],\n",
    "    [5.0,3.0],\n",
    "    [4.6,2.9],\n",
    "    [5.9,3.2],\n",
    "    [6.0,3.0],\n",
    "    [6.2,2.8],\n",
    "    [6.7,3.1],\n",
    "])\n",
    "\n",
    "n = 10 # number of data points\n",
    "k = 3 # number of clusters\n",
    "centers = np.array([\n",
    "                    [6.3,3.2], # red\n",
    "                    [6.6,3.7], # green\n",
    "                    [6.5,3.0] # blue\n",
    "                ])\n",
    "\n",
    "# define a function to plot\n",
    "def visualize(X, centers):\n",
    "    fig = plt.figure()\n",
    "    plt.scatter(X[:,0],X[:,1],50,color='black',marker=\"^\")\n",
    "    plt.scatter(centers[:1,0],centers[:1,1],100,color='red',marker=\"x\")\n",
    "    plt.scatter(centers[1:2,0],centers[1:2,1],100,color='green',marker=\"x\")\n",
    "    plt.scatter(centers[2:3,0],centers[2:3,1],100,color='blue',marker=\"x\")\n",
    "    plt.show()\n",
    "    \n",
    "visualize(X, centers) # initial data points and means"
   ]
  },
  {
   "cell_type": "code",
   "execution_count": 90,
   "metadata": {},
   "outputs": [
    {
     "name": "stdout",
     "output_type": "stream",
     "text": [
      "After iteration 1 , new centers are \n",
      "[[5.17142857 3.17142857]\n",
      " [5.5        4.2       ]\n",
      " [6.45       2.95      ]]\n",
      "The difference between to iterations 1.6551404157709295\n"
     ]
    },
    {
     "data": {
      "image/png": "[encoded data removed]",
      "text/plain": [
       "<Figure size 432x288 with 1 Axes>"
      ]
     },
     "metadata": {},
     "output_type": "display_data"
    },
    {
     "name": "stdout",
     "output_type": "stream",
     "text": [
      "After iteration 2 , new centers are \n",
      "[[4.8   3.05 ]\n",
      " [5.3   4.   ]\n",
      " [6.2   3.025]]\n",
      "The difference between to iterations 0.5484788798419249\n"
     ]
    },
    {
     "data": {
      "image/png": "[encoded data removed]",
      "text/plain": [
       "<Figure size 432x288 with 1 Axes>"
      ]
     },
     "metadata": {},
     "output_type": "display_data"
    },
    {
     "name": "stdout",
     "output_type": "stream",
     "text": [
      "After iteration 3 , new centers are \n",
      "[[4.8   3.05 ]\n",
      " [5.3   4.   ]\n",
      " [6.2   3.025]]\n",
      "The difference between to iterations 0.0\n"
     ]
    },
    {
     "data": {
      "image/png": "[encoded data removed]",
      "text/plain": [
       "<Figure size 432x288 with 1 Axes>"
      ]
     },
     "metadata": {},
     "output_type": "display_data"
    },
    {
     "name": "stdout",
     "output_type": "stream",
     "text": [
      "Converged !!\n"
     ]
    }
   ],
   "source": [
    "'''implement k-means algorithm'''\n",
    "\n",
    "centers_old = np.zeros(centers.shape) # to store old centers\n",
    "centers_new = deepcopy(centers) # Store new centers\n",
    "\n",
    "clusters = np.zeros(n)\n",
    "distances = np.zeros((n,k))\n",
    "\n",
    "error = np.linalg.norm(centers_new - centers_old) # difference between two iterations\n",
    "\n",
    "iter = 0\n",
    "while error != 0: # stop when the last one assignment is the same as last try\n",
    "    iter += 1\n",
    "    # Measure the distance to every center\n",
    "    for i in range(k):\n",
    "        distances[:,i] = np.linalg.norm(X - centers[i], axis=1) \n",
    "    clusters = np.argmin(distances, axis = 1) # Assign all training data to closest center\n",
    "    \n",
    "    centers_old = deepcopy(centers_new)\n",
    "    \n",
    "    # Calculate mean for every cluster and update the center\n",
    "    for i in range(k):\n",
    "        centers_new[i] = np.mean(X[clusters == i], axis=0)\n",
    "    print 'After iteration',iter,', new centers are \\n',centers_new\n",
    "    error = np.linalg.norm(centers_new - centers_old)\n",
    "    centers = centers_new\n",
    "    print 'The difference between to iterations',error\n",
    "    visualize(X, centers)\n",
    "    \n",
    "    \n",
    "    \n",
    "print 'Converged !!'"
   ]
  },
  {
   "cell_type": "markdown",
   "metadata": {},
   "source": [
    "So, we could see, after second iteration, the assignments don't change. Only need 2 iterations to converge."
   ]
  }
 ],
 "metadata": {
  "kernelspec": {
   "display_name": "Python 2",
   "language": "python",
   "name": "python2"
  },
  "language_info": {
   "codemirror_mode": {
    "name": "ipython",
    "version": 2
   },
   "file_extension": ".py",
   "mimetype": "text/x-python",
   "name": "python",
   "nbconvert_exporter": "python",
   "pygments_lexer": "ipython2",
   "version": "2.7.15"
  }
 },
 "nbformat": 4,
 "nbformat_minor": 2
}
